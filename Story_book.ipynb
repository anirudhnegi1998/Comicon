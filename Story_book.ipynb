{
 "cells": [
  {
   "cell_type": "markdown",
   "id": "f06f4342",
   "metadata": {},
   "source": [
    "### Cartoonizing (common for both English and Hindi)"
   ]
  },
  {
   "cell_type": "code",
   "execution_count": 43,
   "id": "aeaa0d06",
   "metadata": {},
   "outputs": [],
   "source": [
    "from PIL import Image\n",
    "import cv2 \n",
    "from IPython.display import display\n",
    "\n",
    "def imgcompress_mem(path_in, k):\n",
    "    img = cv2.imread(path_in, cv2.IMREAD_UNCHANGED)\n",
    "\n",
    "    # set the ratio of resized image\n",
    "    width = int((img.shape[1])/k)\n",
    "    height = int((img.shape[0])/k)\n",
    "\n",
    "    # resize the image by resize() function of openCV library\n",
    "    return cv2.resize(img, (width, height), interpolation=cv2.INTER_AREA)"
   ]
  },
  {
   "cell_type": "code",
   "execution_count": 44,
   "id": "07936fad",
   "metadata": {},
   "outputs": [],
   "source": [
    "# Controls blur amount and line size\n",
    "def cartoonizebl_mem(path_in, k, blur, line):\n",
    "    \n",
    "    imgc = imgcompress_mem(path_in, k)\n",
    "    #imgc_pil = cv2.cvtColor(imgc, cv2.COLOR_BGR2RGB) # Converting BGR to RGB\n",
    "    #display(Image.fromarray(imgc_pil))\n",
    "\n",
    "    line_size = line\n",
    "    blur_value = blur\n",
    "    #imgc = cv2.imread(path_out, cv2.IMREAD_UNCHANGED)\n",
    "    gray = cv2.cvtColor(imgc, cv2.COLOR_BGR2GRAY)\n",
    "    gray_blur = cv2.medianBlur(gray, blur_value)\n",
    "    bigedges = cv2.adaptiveThreshold(gray_blur, 255, cv2.ADAPTIVE_THRESH_MEAN_C, cv2.THRESH_BINARY, line_size, blur_value)\n",
    "    bigedges_pil = cv2.cvtColor(bigedges, cv2.COLOR_BGR2RGB) # Converting BGR to RGB\n",
    "    #display(Image.fromarray(bigedges_pil))\n",
    "\n",
    "    return cv2.bitwise_and(imgc, imgc, mask=bigedges)"
   ]
  },
  {
   "cell_type": "code",
   "execution_count": 45,
   "id": "0b70c8f6",
   "metadata": {},
   "outputs": [],
   "source": [
    "import pandas as pd\n",
    "data = pd.read_csv(\"English_1.csv\",encoding='latin-1')\n",
    "pic_path=[]\n",
    "for i in range(data.shape[0]):\n",
    "    pic_path.append(data.iloc[i]['picture'])\n",
    "\n",
    "for i in pic_path:\n",
    "    path_new = \"Book/pics/\"+i\n",
    "    cblimg = cartoonizebl_mem(path_new, 1, 5, 13)\n",
    "    cblimg_pil = cv2.cvtColor(cblimg, cv2.COLOR_BGR2RGB) # Converting BGR to RGB\n",
    "    im = Image.fromarray(cblimg_pil)\n",
    "    path_out= \"Book/cartoon/\"+i\n",
    "    im.save(path_out)\n"
   ]
  },
  {
   "cell_type": "markdown",
   "id": "42136226",
   "metadata": {},
   "source": [
    "### Caption for English"
   ]
  },
  {
   "cell_type": "code",
   "execution_count": 46,
   "id": "dad6ea99",
   "metadata": {},
   "outputs": [
    {
     "name": "stdout",
     "output_type": "stream",
     "text": [
      "(375, 600, 3)\n",
      "(800, 598, 3)\n",
      "(453, 600, 3)\n"
     ]
    },
    {
     "name": "stderr",
     "output_type": "stream",
     "text": [
      "/var/folders/z3/4rs56z4x3l77_w335hpsgc_h0000gn/T/ipykernel_63232/1606472848.py:23: DeprecationWarning: getsize is deprecated and will be removed in Pillow 10 (2023-07-01). Use getbbox or getlength instead.\n",
      "  w, h = font.getsize(text)\n",
      "/var/folders/z3/4rs56z4x3l77_w335hpsgc_h0000gn/T/ipykernel_63232/1606472848.py:43: DeprecationWarning: ANTIALIAS is deprecated and will be removed in Pillow 10 (2023-07-01). Use Resampling.LANCZOS instead.\n",
      "  image = img.resize((400,350),Image.ANTIALIAS) #horizontal\n",
      "/var/folders/z3/4rs56z4x3l77_w335hpsgc_h0000gn/T/ipykernel_63232/1606472848.py:23: DeprecationWarning: getsize is deprecated and will be removed in Pillow 10 (2023-07-01). Use getbbox or getlength instead.\n",
      "  w, h = font.getsize(text)\n",
      "/var/folders/z3/4rs56z4x3l77_w335hpsgc_h0000gn/T/ipykernel_63232/1606472848.py:45: DeprecationWarning: ANTIALIAS is deprecated and will be removed in Pillow 10 (2023-07-01). Use Resampling.LANCZOS instead.\n",
      "  image = img.resize((400,400),Image.ANTIALIAS) #vertical\n",
      "/var/folders/z3/4rs56z4x3l77_w335hpsgc_h0000gn/T/ipykernel_63232/1606472848.py:23: DeprecationWarning: getsize is deprecated and will be removed in Pillow 10 (2023-07-01). Use getbbox or getlength instead.\n",
      "  w, h = font.getsize(text)\n",
      "/var/folders/z3/4rs56z4x3l77_w335hpsgc_h0000gn/T/ipykernel_63232/1606472848.py:43: DeprecationWarning: ANTIALIAS is deprecated and will be removed in Pillow 10 (2023-07-01). Use Resampling.LANCZOS instead.\n",
      "  image = img.resize((400,350),Image.ANTIALIAS) #horizontal\n"
     ]
    },
    {
     "name": "stdout",
     "output_type": "stream",
     "text": [
      "(600, 496, 3)\n",
      "(600, 595, 3)\n",
      "(750, 748, 3)\n"
     ]
    },
    {
     "name": "stderr",
     "output_type": "stream",
     "text": [
      "/var/folders/z3/4rs56z4x3l77_w335hpsgc_h0000gn/T/ipykernel_63232/1606472848.py:23: DeprecationWarning: getsize is deprecated and will be removed in Pillow 10 (2023-07-01). Use getbbox or getlength instead.\n",
      "  w, h = font.getsize(text)\n",
      "/var/folders/z3/4rs56z4x3l77_w335hpsgc_h0000gn/T/ipykernel_63232/1606472848.py:45: DeprecationWarning: ANTIALIAS is deprecated and will be removed in Pillow 10 (2023-07-01). Use Resampling.LANCZOS instead.\n",
      "  image = img.resize((400,400),Image.ANTIALIAS) #vertical\n",
      "/var/folders/z3/4rs56z4x3l77_w335hpsgc_h0000gn/T/ipykernel_63232/1606472848.py:23: DeprecationWarning: getsize is deprecated and will be removed in Pillow 10 (2023-07-01). Use getbbox or getlength instead.\n",
      "  w, h = font.getsize(text)\n",
      "/var/folders/z3/4rs56z4x3l77_w335hpsgc_h0000gn/T/ipykernel_63232/1606472848.py:45: DeprecationWarning: ANTIALIAS is deprecated and will be removed in Pillow 10 (2023-07-01). Use Resampling.LANCZOS instead.\n",
      "  image = img.resize((400,400),Image.ANTIALIAS) #vertical\n",
      "/var/folders/z3/4rs56z4x3l77_w335hpsgc_h0000gn/T/ipykernel_63232/1606472848.py:23: DeprecationWarning: getsize is deprecated and will be removed in Pillow 10 (2023-07-01). Use getbbox or getlength instead.\n",
      "  w, h = font.getsize(text)\n"
     ]
    },
    {
     "name": "stdout",
     "output_type": "stream",
     "text": [
      "(507, 800, 3)\n",
      "(540, 800, 3)\n",
      "(420, 800, 3)\n"
     ]
    },
    {
     "name": "stderr",
     "output_type": "stream",
     "text": [
      "/var/folders/z3/4rs56z4x3l77_w335hpsgc_h0000gn/T/ipykernel_63232/1606472848.py:43: DeprecationWarning: ANTIALIAS is deprecated and will be removed in Pillow 10 (2023-07-01). Use Resampling.LANCZOS instead.\n",
      "  image = img.resize((400,350),Image.ANTIALIAS) #horizontal\n",
      "/var/folders/z3/4rs56z4x3l77_w335hpsgc_h0000gn/T/ipykernel_63232/1606472848.py:23: DeprecationWarning: getsize is deprecated and will be removed in Pillow 10 (2023-07-01). Use getbbox or getlength instead.\n",
      "  w, h = font.getsize(text)\n",
      "/var/folders/z3/4rs56z4x3l77_w335hpsgc_h0000gn/T/ipykernel_63232/1606472848.py:43: DeprecationWarning: ANTIALIAS is deprecated and will be removed in Pillow 10 (2023-07-01). Use Resampling.LANCZOS instead.\n",
      "  image = img.resize((400,350),Image.ANTIALIAS) #horizontal\n",
      "/var/folders/z3/4rs56z4x3l77_w335hpsgc_h0000gn/T/ipykernel_63232/1606472848.py:23: DeprecationWarning: getsize is deprecated and will be removed in Pillow 10 (2023-07-01). Use getbbox or getlength instead.\n",
      "  w, h = font.getsize(text)\n",
      "/var/folders/z3/4rs56z4x3l77_w335hpsgc_h0000gn/T/ipykernel_63232/1606472848.py:43: DeprecationWarning: ANTIALIAS is deprecated and will be removed in Pillow 10 (2023-07-01). Use Resampling.LANCZOS instead.\n",
      "  image = img.resize((400,350),Image.ANTIALIAS) #horizontal\n"
     ]
    },
    {
     "name": "stdout",
     "output_type": "stream",
     "text": [
      "(563, 800, 3)\n",
      "(505, 800, 3)\n"
     ]
    },
    {
     "name": "stderr",
     "output_type": "stream",
     "text": [
      "/var/folders/z3/4rs56z4x3l77_w335hpsgc_h0000gn/T/ipykernel_63232/1606472848.py:23: DeprecationWarning: getsize is deprecated and will be removed in Pillow 10 (2023-07-01). Use getbbox or getlength instead.\n",
      "  w, h = font.getsize(text)\n",
      "/var/folders/z3/4rs56z4x3l77_w335hpsgc_h0000gn/T/ipykernel_63232/1606472848.py:43: DeprecationWarning: ANTIALIAS is deprecated and will be removed in Pillow 10 (2023-07-01). Use Resampling.LANCZOS instead.\n",
      "  image = img.resize((400,350),Image.ANTIALIAS) #horizontal\n",
      "/var/folders/z3/4rs56z4x3l77_w335hpsgc_h0000gn/T/ipykernel_63232/1606472848.py:23: DeprecationWarning: getsize is deprecated and will be removed in Pillow 10 (2023-07-01). Use getbbox or getlength instead.\n",
      "  w, h = font.getsize(text)\n"
     ]
    },
    {
     "name": "stdout",
     "output_type": "stream",
     "text": [
      "(697, 800, 3)\n",
      "(722, 800, 3)\n"
     ]
    },
    {
     "name": "stderr",
     "output_type": "stream",
     "text": [
      "/var/folders/z3/4rs56z4x3l77_w335hpsgc_h0000gn/T/ipykernel_63232/1606472848.py:43: DeprecationWarning: ANTIALIAS is deprecated and will be removed in Pillow 10 (2023-07-01). Use Resampling.LANCZOS instead.\n",
      "  image = img.resize((400,350),Image.ANTIALIAS) #horizontal\n",
      "/var/folders/z3/4rs56z4x3l77_w335hpsgc_h0000gn/T/ipykernel_63232/1606472848.py:23: DeprecationWarning: getsize is deprecated and will be removed in Pillow 10 (2023-07-01). Use getbbox or getlength instead.\n",
      "  w, h = font.getsize(text)\n",
      "/var/folders/z3/4rs56z4x3l77_w335hpsgc_h0000gn/T/ipykernel_63232/1606472848.py:43: DeprecationWarning: ANTIALIAS is deprecated and will be removed in Pillow 10 (2023-07-01). Use Resampling.LANCZOS instead.\n",
      "  image = img.resize((400,350),Image.ANTIALIAS) #horizontal\n"
     ]
    },
    {
     "name": "stdout",
     "output_type": "stream",
     "text": [
      "(599, 800, 3)\n",
      "(750, 472, 3)\n",
      "(736, 800, 3)\n"
     ]
    },
    {
     "name": "stderr",
     "output_type": "stream",
     "text": [
      "/var/folders/z3/4rs56z4x3l77_w335hpsgc_h0000gn/T/ipykernel_63232/1606472848.py:23: DeprecationWarning: getsize is deprecated and will be removed in Pillow 10 (2023-07-01). Use getbbox or getlength instead.\n",
      "  w, h = font.getsize(text)\n",
      "/var/folders/z3/4rs56z4x3l77_w335hpsgc_h0000gn/T/ipykernel_63232/1606472848.py:43: DeprecationWarning: ANTIALIAS is deprecated and will be removed in Pillow 10 (2023-07-01). Use Resampling.LANCZOS instead.\n",
      "  image = img.resize((400,350),Image.ANTIALIAS) #horizontal\n",
      "/var/folders/z3/4rs56z4x3l77_w335hpsgc_h0000gn/T/ipykernel_63232/1606472848.py:23: DeprecationWarning: getsize is deprecated and will be removed in Pillow 10 (2023-07-01). Use getbbox or getlength instead.\n",
      "  w, h = font.getsize(text)\n",
      "/var/folders/z3/4rs56z4x3l77_w335hpsgc_h0000gn/T/ipykernel_63232/1606472848.py:45: DeprecationWarning: ANTIALIAS is deprecated and will be removed in Pillow 10 (2023-07-01). Use Resampling.LANCZOS instead.\n",
      "  image = img.resize((400,400),Image.ANTIALIAS) #vertical\n",
      "/var/folders/z3/4rs56z4x3l77_w335hpsgc_h0000gn/T/ipykernel_63232/1606472848.py:23: DeprecationWarning: getsize is deprecated and will be removed in Pillow 10 (2023-07-01). Use getbbox or getlength instead.\n",
      "  w, h = font.getsize(text)\n",
      "/var/folders/z3/4rs56z4x3l77_w335hpsgc_h0000gn/T/ipykernel_63232/1606472848.py:43: DeprecationWarning: ANTIALIAS is deprecated and will be removed in Pillow 10 (2023-07-01). Use Resampling.LANCZOS instead.\n",
      "  image = img.resize((400,350),Image.ANTIALIAS) #horizontal\n"
     ]
    },
    {
     "name": "stdout",
     "output_type": "stream",
     "text": [
      "(609, 800, 3)\n",
      "(451, 800, 3)\n",
      "(659, 800, 3)\n"
     ]
    },
    {
     "name": "stderr",
     "output_type": "stream",
     "text": [
      "/var/folders/z3/4rs56z4x3l77_w335hpsgc_h0000gn/T/ipykernel_63232/1606472848.py:23: DeprecationWarning: getsize is deprecated and will be removed in Pillow 10 (2023-07-01). Use getbbox or getlength instead.\n",
      "  w, h = font.getsize(text)\n",
      "/var/folders/z3/4rs56z4x3l77_w335hpsgc_h0000gn/T/ipykernel_63232/1606472848.py:43: DeprecationWarning: ANTIALIAS is deprecated and will be removed in Pillow 10 (2023-07-01). Use Resampling.LANCZOS instead.\n",
      "  image = img.resize((400,350),Image.ANTIALIAS) #horizontal\n",
      "/var/folders/z3/4rs56z4x3l77_w335hpsgc_h0000gn/T/ipykernel_63232/1606472848.py:23: DeprecationWarning: getsize is deprecated and will be removed in Pillow 10 (2023-07-01). Use getbbox or getlength instead.\n",
      "  w, h = font.getsize(text)\n",
      "/var/folders/z3/4rs56z4x3l77_w335hpsgc_h0000gn/T/ipykernel_63232/1606472848.py:43: DeprecationWarning: ANTIALIAS is deprecated and will be removed in Pillow 10 (2023-07-01). Use Resampling.LANCZOS instead.\n",
      "  image = img.resize((400,350),Image.ANTIALIAS) #horizontal\n"
     ]
    },
    {
     "name": "stdout",
     "output_type": "stream",
     "text": [
      "(750, 744, 3)\n",
      "(750, 742, 3)\n"
     ]
    },
    {
     "name": "stderr",
     "output_type": "stream",
     "text": [
      "/var/folders/z3/4rs56z4x3l77_w335hpsgc_h0000gn/T/ipykernel_63232/1606472848.py:23: DeprecationWarning: getsize is deprecated and will be removed in Pillow 10 (2023-07-01). Use getbbox or getlength instead.\n",
      "  w, h = font.getsize(text)\n",
      "/var/folders/z3/4rs56z4x3l77_w335hpsgc_h0000gn/T/ipykernel_63232/1606472848.py:45: DeprecationWarning: ANTIALIAS is deprecated and will be removed in Pillow 10 (2023-07-01). Use Resampling.LANCZOS instead.\n",
      "  image = img.resize((400,400),Image.ANTIALIAS) #vertical\n"
     ]
    },
    {
     "name": "stdout",
     "output_type": "stream",
     "text": [
      "(750, 677, 3)\n",
      "(750, 576, 3)\n"
     ]
    },
    {
     "name": "stderr",
     "output_type": "stream",
     "text": [
      "/var/folders/z3/4rs56z4x3l77_w335hpsgc_h0000gn/T/ipykernel_63232/1606472848.py:45: DeprecationWarning: ANTIALIAS is deprecated and will be removed in Pillow 10 (2023-07-01). Use Resampling.LANCZOS instead.\n",
      "  image = img.resize((400,400),Image.ANTIALIAS) #vertical\n",
      "/var/folders/z3/4rs56z4x3l77_w335hpsgc_h0000gn/T/ipykernel_63232/1606472848.py:23: DeprecationWarning: getsize is deprecated and will be removed in Pillow 10 (2023-07-01). Use getbbox or getlength instead.\n",
      "  w, h = font.getsize(text)\n",
      "/var/folders/z3/4rs56z4x3l77_w335hpsgc_h0000gn/T/ipykernel_63232/1606472848.py:43: DeprecationWarning: ANTIALIAS is deprecated and will be removed in Pillow 10 (2023-07-01). Use Resampling.LANCZOS instead.\n",
      "  image = img.resize((400,350),Image.ANTIALIAS) #horizontal\n"
     ]
    },
    {
     "name": "stdout",
     "output_type": "stream",
     "text": [
      "(602, 800, 3)\n",
      "(1106, 1156, 3)\n"
     ]
    },
    {
     "name": "stderr",
     "output_type": "stream",
     "text": [
      "/var/folders/z3/4rs56z4x3l77_w335hpsgc_h0000gn/T/ipykernel_63232/1606472848.py:23: DeprecationWarning: getsize is deprecated and will be removed in Pillow 10 (2023-07-01). Use getbbox or getlength instead.\n",
      "  w, h = font.getsize(text)\n",
      "/var/folders/z3/4rs56z4x3l77_w335hpsgc_h0000gn/T/ipykernel_63232/1606472848.py:43: DeprecationWarning: ANTIALIAS is deprecated and will be removed in Pillow 10 (2023-07-01). Use Resampling.LANCZOS instead.\n",
      "  image = img.resize((400,350),Image.ANTIALIAS) #horizontal\n",
      "/var/folders/z3/4rs56z4x3l77_w335hpsgc_h0000gn/T/ipykernel_63232/1606472848.py:23: DeprecationWarning: getsize is deprecated and will be removed in Pillow 10 (2023-07-01). Use getbbox or getlength instead.\n",
      "  w, h = font.getsize(text)\n",
      "/var/folders/z3/4rs56z4x3l77_w335hpsgc_h0000gn/T/ipykernel_63232/1606472848.py:45: DeprecationWarning: ANTIALIAS is deprecated and will be removed in Pillow 10 (2023-07-01). Use Resampling.LANCZOS instead.\n",
      "  image = img.resize((400,400),Image.ANTIALIAS) #vertical\n"
     ]
    },
    {
     "name": "stdout",
     "output_type": "stream",
     "text": [
      "(750, 571, 3)\n",
      "(656, 800, 3)\n",
      "(750, 576, 3)\n"
     ]
    },
    {
     "name": "stderr",
     "output_type": "stream",
     "text": [
      "/var/folders/z3/4rs56z4x3l77_w335hpsgc_h0000gn/T/ipykernel_63232/1606472848.py:23: DeprecationWarning: getsize is deprecated and will be removed in Pillow 10 (2023-07-01). Use getbbox or getlength instead.\n",
      "  w, h = font.getsize(text)\n",
      "/var/folders/z3/4rs56z4x3l77_w335hpsgc_h0000gn/T/ipykernel_63232/1606472848.py:43: DeprecationWarning: ANTIALIAS is deprecated and will be removed in Pillow 10 (2023-07-01). Use Resampling.LANCZOS instead.\n",
      "  image = img.resize((400,350),Image.ANTIALIAS) #horizontal\n",
      "/var/folders/z3/4rs56z4x3l77_w335hpsgc_h0000gn/T/ipykernel_63232/1606472848.py:23: DeprecationWarning: getsize is deprecated and will be removed in Pillow 10 (2023-07-01). Use getbbox or getlength instead.\n",
      "  w, h = font.getsize(text)\n",
      "/var/folders/z3/4rs56z4x3l77_w335hpsgc_h0000gn/T/ipykernel_63232/1606472848.py:45: DeprecationWarning: ANTIALIAS is deprecated and will be removed in Pillow 10 (2023-07-01). Use Resampling.LANCZOS instead.\n",
      "  image = img.resize((400,400),Image.ANTIALIAS) #vertical\n",
      "/var/folders/z3/4rs56z4x3l77_w335hpsgc_h0000gn/T/ipykernel_63232/1606472848.py:23: DeprecationWarning: getsize is deprecated and will be removed in Pillow 10 (2023-07-01). Use getbbox or getlength instead.\n",
      "  w, h = font.getsize(text)\n",
      "/var/folders/z3/4rs56z4x3l77_w335hpsgc_h0000gn/T/ipykernel_63232/1606472848.py:43: DeprecationWarning: ANTIALIAS is deprecated and will be removed in Pillow 10 (2023-07-01). Use Resampling.LANCZOS instead.\n",
      "  image = img.resize((400,350),Image.ANTIALIAS) #horizontal\n"
     ]
    },
    {
     "name": "stdout",
     "output_type": "stream",
     "text": [
      "(750, 753, 3)\n",
      "(750, 423, 3)\n",
      "(451, 800, 3)\n"
     ]
    },
    {
     "name": "stderr",
     "output_type": "stream",
     "text": [
      "/var/folders/z3/4rs56z4x3l77_w335hpsgc_h0000gn/T/ipykernel_63232/1606472848.py:43: DeprecationWarning: ANTIALIAS is deprecated and will be removed in Pillow 10 (2023-07-01). Use Resampling.LANCZOS instead.\n",
      "  image = img.resize((400,350),Image.ANTIALIAS) #horizontal\n",
      "/var/folders/z3/4rs56z4x3l77_w335hpsgc_h0000gn/T/ipykernel_63232/1606472848.py:23: DeprecationWarning: getsize is deprecated and will be removed in Pillow 10 (2023-07-01). Use getbbox or getlength instead.\n",
      "  w, h = font.getsize(text)\n"
     ]
    },
    {
     "name": "stdout",
     "output_type": "stream",
     "text": [
      "(642, 800, 3)\n",
      "(514, 800, 3)\n",
      "(750, 785, 3)\n",
      "(750, 619, 3)\n",
      "(750, 758, 3)\n",
      "(750, 778, 3)\n"
     ]
    },
    {
     "name": "stderr",
     "output_type": "stream",
     "text": [
      "/var/folders/z3/4rs56z4x3l77_w335hpsgc_h0000gn/T/ipykernel_63232/1606472848.py:45: DeprecationWarning: ANTIALIAS is deprecated and will be removed in Pillow 10 (2023-07-01). Use Resampling.LANCZOS instead.\n",
      "  image = img.resize((400,400),Image.ANTIALIAS) #vertical\n",
      "/var/folders/z3/4rs56z4x3l77_w335hpsgc_h0000gn/T/ipykernel_63232/1606472848.py:43: DeprecationWarning: ANTIALIAS is deprecated and will be removed in Pillow 10 (2023-07-01). Use Resampling.LANCZOS instead.\n",
      "  image = img.resize((400,350),Image.ANTIALIAS) #horizontal\n",
      "/var/folders/z3/4rs56z4x3l77_w335hpsgc_h0000gn/T/ipykernel_63232/1606472848.py:23: DeprecationWarning: getsize is deprecated and will be removed in Pillow 10 (2023-07-01). Use getbbox or getlength instead.\n",
      "  w, h = font.getsize(text)\n",
      "/var/folders/z3/4rs56z4x3l77_w335hpsgc_h0000gn/T/ipykernel_63232/1606472848.py:43: DeprecationWarning: ANTIALIAS is deprecated and will be removed in Pillow 10 (2023-07-01). Use Resampling.LANCZOS instead.\n",
      "  image = img.resize((400,350),Image.ANTIALIAS) #horizontal\n"
     ]
    },
    {
     "name": "stdout",
     "output_type": "stream",
     "text": [
      "(600, 800, 3)\n",
      "(700, 800, 3)\n",
      "(597, 800, 3)\n"
     ]
    },
    {
     "name": "stderr",
     "output_type": "stream",
     "text": [
      "/var/folders/z3/4rs56z4x3l77_w335hpsgc_h0000gn/T/ipykernel_63232/1606472848.py:23: DeprecationWarning: getsize is deprecated and will be removed in Pillow 10 (2023-07-01). Use getbbox or getlength instead.\n",
      "  w, h = font.getsize(text)\n"
     ]
    },
    {
     "name": "stdout",
     "output_type": "stream",
     "text": [
      "(647, 800, 3)\n",
      "(598, 800, 3)\n",
      "(716, 800, 3)\n",
      "(446, 800, 3)\n",
      "(750, 748, 3)\n"
     ]
    },
    {
     "name": "stderr",
     "output_type": "stream",
     "text": [
      "/var/folders/z3/4rs56z4x3l77_w335hpsgc_h0000gn/T/ipykernel_63232/1606472848.py:43: DeprecationWarning: ANTIALIAS is deprecated and will be removed in Pillow 10 (2023-07-01). Use Resampling.LANCZOS instead.\n",
      "  image = img.resize((400,350),Image.ANTIALIAS) #horizontal\n",
      "/var/folders/z3/4rs56z4x3l77_w335hpsgc_h0000gn/T/ipykernel_63232/1606472848.py:23: DeprecationWarning: getsize is deprecated and will be removed in Pillow 10 (2023-07-01). Use getbbox or getlength instead.\n",
      "  w, h = font.getsize(text)\n",
      "/var/folders/z3/4rs56z4x3l77_w335hpsgc_h0000gn/T/ipykernel_63232/1606472848.py:45: DeprecationWarning: ANTIALIAS is deprecated and will be removed in Pillow 10 (2023-07-01). Use Resampling.LANCZOS instead.\n",
      "  image = img.resize((400,400),Image.ANTIALIAS) #vertical\n"
     ]
    }
   ],
   "source": [
    "import pandas as pd\n",
    "from PIL import Image, ImageFont, ImageDraw\n",
    "from PIL import Image as pili, ImageDraw as pild, ImageFont as pilf \n",
    "import cv2\n",
    "\n",
    "dial = pd.read_csv(\"English_1.csv\",encoding='latin-1')\n",
    "caption=[]\n",
    "for i in range(dial.shape[0]):\n",
    "    caption.append(dial.iloc[i]['dialogs'])\n",
    "    TINT_COLOR = (0, 0,0)  # Black\n",
    "    TRANSPARENCY = .60  # Degree of transparency, 0-100%\n",
    "    OPACITY = int(255 * TRANSPARENCY)\n",
    "    \n",
    "    img = pili.open(\"Book/cartoon/\"+dial.iloc[i]['picture']).convert('RGBA')\n",
    "    im = cv2.imread(\"Book/cartoon/\"+dial.iloc[i]['picture'])\n",
    "    print(im.shape)\n",
    "    overlay = pili.new('RGBA', img.size, TINT_COLOR+(0,))   ##change font n style\n",
    "    draw = pild.Draw(overlay)\n",
    "    font = pilf.truetype(\"Arial Rounded Bold.ttf\", 57)\n",
    "    #x, y = (img.width - 510, img.height-100)\n",
    "    text = dial.iloc[i]['dialogs']\n",
    "    #print(text)\n",
    "    w, h = font.getsize(text)\n",
    "    num_lines = len(text.split(' \\n'))\n",
    "    #print(num_lines, w, h)\n",
    "    x, y = 88, img.height - (num_lines-0.1*num_lines)*h\n",
    "    #draw.rectangle((x, y, x + w, y + h), fill='black')\n",
    "    #draw.rectangle((x-220,y, x + w, y + 4*h), fill=TINT_COLOR+(OPACITY,))\n",
    "    #draw.rectangle((x, y, x + img.width-200 , y + (num_lines-0.1*num_lines)*h), fill=TINT_COLOR+(OPACITY,))\n",
    "    import random\n",
    "    import colorsys\n",
    "    h,s,l = random.random(), 0.5 + random.random()/2.0, 0.4 + random.random()/5.0\n",
    "    r,g,b = [int(256*i) for i in colorsys.hls_to_rgb(h,l,s)]\n",
    "    draw.text((x-80,y-50), str(text), fill=(r,g,b), font=font)\n",
    "\n",
    "# Alpha composite these two images together to obtain the desired result.\n",
    "    img = pili.alpha_composite(img, overlay)\n",
    "    img = img.convert(\"RGB\") # Remove alpha for saving in jpg format.\n",
    "\n",
    "#img.show()\n",
    "    if(im.shape[0]< im.shape[1]):\n",
    "        \n",
    "        image = img.resize((400,350),Image.ANTIALIAS) #horizontal \n",
    "    else:\n",
    "        image = img.resize((400,400),Image.ANTIALIAS) #vertical \n",
    "\n",
    "    #image.show()\n",
    "    image.save('Book/UnBordered_pic/'+dial.iloc[i]['picture'])"
   ]
  },
  {
   "cell_type": "markdown",
   "id": "c6d72b33",
   "metadata": {},
   "source": [
    "### Adding Hindi Captions"
   ]
  },
  {
   "cell_type": "code",
   "execution_count": 47,
   "id": "9e68ee3d",
   "metadata": {},
   "outputs": [
    {
     "name": "stdout",
     "output_type": "stream",
     "text": [
      "  picture                                            dialogs\n",
      "0   1.png  वाह मुझे यह खेल पसंद है\\nमैं बास्केटबॉल खेलना ...\n",
      "1   2.png                                एनबीए यह है..सपना!!\n",
      "2   3.png                             यिप्पी!!मेरी पहली जीत।\n",
      "3   4.png           मेरे आदर्श! \\nकिसी दिन उनकी तरह खेलना है\n",
      "4   5.png      मेरा कमरा प्यार करना चीज़ें से उससे भरा चाहिए\n",
      "(375, 600, 3)\n"
     ]
    },
    {
     "name": "stderr",
     "output_type": "stream",
     "text": [
      "/var/folders/z3/4rs56z4x3l77_w335hpsgc_h0000gn/T/ipykernel_63232/3617929052.py:19: DeprecationWarning: getsize is deprecated and will be removed in Pillow 10 (2023-07-01). Use getbbox or getlength instead.\n",
      "  w, h = font.getsize(text)\n",
      "/var/folders/z3/4rs56z4x3l77_w335hpsgc_h0000gn/T/ipykernel_63232/3617929052.py:39: DeprecationWarning: ANTIALIAS is deprecated and will be removed in Pillow 10 (2023-07-01). Use Resampling.LANCZOS instead.\n",
      "  image = img.resize((400,350),Image.ANTIALIAS) #horizontal\n"
     ]
    },
    {
     "name": "stdout",
     "output_type": "stream",
     "text": [
      "(800, 598, 3)\n",
      "(453, 600, 3)\n"
     ]
    },
    {
     "name": "stderr",
     "output_type": "stream",
     "text": [
      "/var/folders/z3/4rs56z4x3l77_w335hpsgc_h0000gn/T/ipykernel_63232/3617929052.py:19: DeprecationWarning: getsize is deprecated and will be removed in Pillow 10 (2023-07-01). Use getbbox or getlength instead.\n",
      "  w, h = font.getsize(text)\n",
      "/var/folders/z3/4rs56z4x3l77_w335hpsgc_h0000gn/T/ipykernel_63232/3617929052.py:41: DeprecationWarning: ANTIALIAS is deprecated and will be removed in Pillow 10 (2023-07-01). Use Resampling.LANCZOS instead.\n",
      "  image = img.resize((400,400),Image.ANTIALIAS) #vertical\n"
     ]
    },
    {
     "name": "stdout",
     "output_type": "stream",
     "text": [
      "(600, 496, 3)\n"
     ]
    },
    {
     "name": "stderr",
     "output_type": "stream",
     "text": [
      "/var/folders/z3/4rs56z4x3l77_w335hpsgc_h0000gn/T/ipykernel_63232/3617929052.py:41: DeprecationWarning: ANTIALIAS is deprecated and will be removed in Pillow 10 (2023-07-01). Use Resampling.LANCZOS instead.\n",
      "  image = img.resize((400,400),Image.ANTIALIAS) #vertical\n"
     ]
    },
    {
     "name": "stdout",
     "output_type": "stream",
     "text": [
      "(600, 595, 3)\n",
      "(750, 748, 3)\n"
     ]
    },
    {
     "name": "stderr",
     "output_type": "stream",
     "text": [
      "/var/folders/z3/4rs56z4x3l77_w335hpsgc_h0000gn/T/ipykernel_63232/3617929052.py:19: DeprecationWarning: getsize is deprecated and will be removed in Pillow 10 (2023-07-01). Use getbbox or getlength instead.\n",
      "  w, h = font.getsize(text)\n"
     ]
    },
    {
     "name": "stdout",
     "output_type": "stream",
     "text": [
      "(507, 800, 3)\n"
     ]
    },
    {
     "name": "stderr",
     "output_type": "stream",
     "text": [
      "/var/folders/z3/4rs56z4x3l77_w335hpsgc_h0000gn/T/ipykernel_63232/3617929052.py:39: DeprecationWarning: ANTIALIAS is deprecated and will be removed in Pillow 10 (2023-07-01). Use Resampling.LANCZOS instead.\n",
      "  image = img.resize((400,350),Image.ANTIALIAS) #horizontal\n"
     ]
    },
    {
     "name": "stdout",
     "output_type": "stream",
     "text": [
      "(540, 800, 3)\n",
      "(420, 800, 3)\n"
     ]
    },
    {
     "name": "stderr",
     "output_type": "stream",
     "text": [
      "/var/folders/z3/4rs56z4x3l77_w335hpsgc_h0000gn/T/ipykernel_63232/3617929052.py:39: DeprecationWarning: ANTIALIAS is deprecated and will be removed in Pillow 10 (2023-07-01). Use Resampling.LANCZOS instead.\n",
      "  image = img.resize((400,350),Image.ANTIALIAS) #horizontal\n",
      "/var/folders/z3/4rs56z4x3l77_w335hpsgc_h0000gn/T/ipykernel_63232/3617929052.py:19: DeprecationWarning: getsize is deprecated and will be removed in Pillow 10 (2023-07-01). Use getbbox or getlength instead.\n",
      "  w, h = font.getsize(text)\n",
      "/var/folders/z3/4rs56z4x3l77_w335hpsgc_h0000gn/T/ipykernel_63232/3617929052.py:39: DeprecationWarning: ANTIALIAS is deprecated and will be removed in Pillow 10 (2023-07-01). Use Resampling.LANCZOS instead.\n",
      "  image = img.resize((400,350),Image.ANTIALIAS) #horizontal\n"
     ]
    },
    {
     "name": "stdout",
     "output_type": "stream",
     "text": [
      "(563, 800, 3)\n"
     ]
    },
    {
     "name": "stderr",
     "output_type": "stream",
     "text": [
      "/var/folders/z3/4rs56z4x3l77_w335hpsgc_h0000gn/T/ipykernel_63232/3617929052.py:19: DeprecationWarning: getsize is deprecated and will be removed in Pillow 10 (2023-07-01). Use getbbox or getlength instead.\n",
      "  w, h = font.getsize(text)\n",
      "/var/folders/z3/4rs56z4x3l77_w335hpsgc_h0000gn/T/ipykernel_63232/3617929052.py:39: DeprecationWarning: ANTIALIAS is deprecated and will be removed in Pillow 10 (2023-07-01). Use Resampling.LANCZOS instead.\n",
      "  image = img.resize((400,350),Image.ANTIALIAS) #horizontal\n"
     ]
    },
    {
     "name": "stdout",
     "output_type": "stream",
     "text": [
      "(505, 800, 3)\n",
      "(697, 800, 3)\n"
     ]
    },
    {
     "name": "stderr",
     "output_type": "stream",
     "text": [
      "/var/folders/z3/4rs56z4x3l77_w335hpsgc_h0000gn/T/ipykernel_63232/3617929052.py:19: DeprecationWarning: getsize is deprecated and will be removed in Pillow 10 (2023-07-01). Use getbbox or getlength instead.\n",
      "  w, h = font.getsize(text)\n",
      "/var/folders/z3/4rs56z4x3l77_w335hpsgc_h0000gn/T/ipykernel_63232/3617929052.py:39: DeprecationWarning: ANTIALIAS is deprecated and will be removed in Pillow 10 (2023-07-01). Use Resampling.LANCZOS instead.\n",
      "  image = img.resize((400,350),Image.ANTIALIAS) #horizontal\n"
     ]
    },
    {
     "name": "stdout",
     "output_type": "stream",
     "text": [
      "(722, 800, 3)\n",
      "(599, 800, 3)\n",
      "(750, 472, 3)\n"
     ]
    },
    {
     "name": "stderr",
     "output_type": "stream",
     "text": [
      "/var/folders/z3/4rs56z4x3l77_w335hpsgc_h0000gn/T/ipykernel_63232/3617929052.py:19: DeprecationWarning: getsize is deprecated and will be removed in Pillow 10 (2023-07-01). Use getbbox or getlength instead.\n",
      "  w, h = font.getsize(text)\n",
      "/var/folders/z3/4rs56z4x3l77_w335hpsgc_h0000gn/T/ipykernel_63232/3617929052.py:39: DeprecationWarning: ANTIALIAS is deprecated and will be removed in Pillow 10 (2023-07-01). Use Resampling.LANCZOS instead.\n",
      "  image = img.resize((400,350),Image.ANTIALIAS) #horizontal\n",
      "/var/folders/z3/4rs56z4x3l77_w335hpsgc_h0000gn/T/ipykernel_63232/3617929052.py:19: DeprecationWarning: getsize is deprecated and will be removed in Pillow 10 (2023-07-01). Use getbbox or getlength instead.\n",
      "  w, h = font.getsize(text)\n",
      "/var/folders/z3/4rs56z4x3l77_w335hpsgc_h0000gn/T/ipykernel_63232/3617929052.py:39: DeprecationWarning: ANTIALIAS is deprecated and will be removed in Pillow 10 (2023-07-01). Use Resampling.LANCZOS instead.\n",
      "  image = img.resize((400,350),Image.ANTIALIAS) #horizontal\n",
      "/var/folders/z3/4rs56z4x3l77_w335hpsgc_h0000gn/T/ipykernel_63232/3617929052.py:19: DeprecationWarning: getsize is deprecated and will be removed in Pillow 10 (2023-07-01). Use getbbox or getlength instead.\n",
      "  w, h = font.getsize(text)\n",
      "/var/folders/z3/4rs56z4x3l77_w335hpsgc_h0000gn/T/ipykernel_63232/3617929052.py:41: DeprecationWarning: ANTIALIAS is deprecated and will be removed in Pillow 10 (2023-07-01). Use Resampling.LANCZOS instead.\n",
      "  image = img.resize((400,400),Image.ANTIALIAS) #vertical\n"
     ]
    },
    {
     "name": "stdout",
     "output_type": "stream",
     "text": [
      "(736, 800, 3)\n",
      "(609, 800, 3)\n",
      "(451, 800, 3)\n",
      "(659, 800, 3)\n"
     ]
    },
    {
     "name": "stderr",
     "output_type": "stream",
     "text": [
      "/var/folders/z3/4rs56z4x3l77_w335hpsgc_h0000gn/T/ipykernel_63232/3617929052.py:39: DeprecationWarning: ANTIALIAS is deprecated and will be removed in Pillow 10 (2023-07-01). Use Resampling.LANCZOS instead.\n",
      "  image = img.resize((400,350),Image.ANTIALIAS) #horizontal\n",
      "/var/folders/z3/4rs56z4x3l77_w335hpsgc_h0000gn/T/ipykernel_63232/3617929052.py:19: DeprecationWarning: getsize is deprecated and will be removed in Pillow 10 (2023-07-01). Use getbbox or getlength instead.\n",
      "  w, h = font.getsize(text)\n",
      "/var/folders/z3/4rs56z4x3l77_w335hpsgc_h0000gn/T/ipykernel_63232/3617929052.py:39: DeprecationWarning: ANTIALIAS is deprecated and will be removed in Pillow 10 (2023-07-01). Use Resampling.LANCZOS instead.\n",
      "  image = img.resize((400,350),Image.ANTIALIAS) #horizontal\n",
      "/var/folders/z3/4rs56z4x3l77_w335hpsgc_h0000gn/T/ipykernel_63232/3617929052.py:19: DeprecationWarning: getsize is deprecated and will be removed in Pillow 10 (2023-07-01). Use getbbox or getlength instead.\n",
      "  w, h = font.getsize(text)\n"
     ]
    },
    {
     "name": "stdout",
     "output_type": "stream",
     "text": [
      "(750, 744, 3)\n",
      "(750, 742, 3)\n"
     ]
    },
    {
     "name": "stderr",
     "output_type": "stream",
     "text": [
      "/var/folders/z3/4rs56z4x3l77_w335hpsgc_h0000gn/T/ipykernel_63232/3617929052.py:41: DeprecationWarning: ANTIALIAS is deprecated and will be removed in Pillow 10 (2023-07-01). Use Resampling.LANCZOS instead.\n",
      "  image = img.resize((400,400),Image.ANTIALIAS) #vertical\n"
     ]
    },
    {
     "name": "stdout",
     "output_type": "stream",
     "text": [
      "(750, 677, 3)\n",
      "(750, 576, 3)\n",
      "(602, 800, 3)\n",
      "(1106, 1156, 3)\n"
     ]
    },
    {
     "name": "stderr",
     "output_type": "stream",
     "text": [
      "/var/folders/z3/4rs56z4x3l77_w335hpsgc_h0000gn/T/ipykernel_63232/3617929052.py:39: DeprecationWarning: ANTIALIAS is deprecated and will be removed in Pillow 10 (2023-07-01). Use Resampling.LANCZOS instead.\n",
      "  image = img.resize((400,350),Image.ANTIALIAS) #horizontal\n",
      "/var/folders/z3/4rs56z4x3l77_w335hpsgc_h0000gn/T/ipykernel_63232/3617929052.py:19: DeprecationWarning: getsize is deprecated and will be removed in Pillow 10 (2023-07-01). Use getbbox or getlength instead.\n",
      "  w, h = font.getsize(text)\n",
      "/var/folders/z3/4rs56z4x3l77_w335hpsgc_h0000gn/T/ipykernel_63232/3617929052.py:41: DeprecationWarning: ANTIALIAS is deprecated and will be removed in Pillow 10 (2023-07-01). Use Resampling.LANCZOS instead.\n",
      "  image = img.resize((400,400),Image.ANTIALIAS) #vertical\n"
     ]
    },
    {
     "name": "stdout",
     "output_type": "stream",
     "text": [
      "(750, 571, 3)\n",
      "(656, 800, 3)\n",
      "(750, 576, 3)\n"
     ]
    },
    {
     "name": "stderr",
     "output_type": "stream",
     "text": [
      "/var/folders/z3/4rs56z4x3l77_w335hpsgc_h0000gn/T/ipykernel_63232/3617929052.py:19: DeprecationWarning: getsize is deprecated and will be removed in Pillow 10 (2023-07-01). Use getbbox or getlength instead.\n",
      "  w, h = font.getsize(text)\n",
      "/var/folders/z3/4rs56z4x3l77_w335hpsgc_h0000gn/T/ipykernel_63232/3617929052.py:39: DeprecationWarning: ANTIALIAS is deprecated and will be removed in Pillow 10 (2023-07-01). Use Resampling.LANCZOS instead.\n",
      "  image = img.resize((400,350),Image.ANTIALIAS) #horizontal\n",
      "/var/folders/z3/4rs56z4x3l77_w335hpsgc_h0000gn/T/ipykernel_63232/3617929052.py:19: DeprecationWarning: getsize is deprecated and will be removed in Pillow 10 (2023-07-01). Use getbbox or getlength instead.\n",
      "  w, h = font.getsize(text)\n",
      "/var/folders/z3/4rs56z4x3l77_w335hpsgc_h0000gn/T/ipykernel_63232/3617929052.py:41: DeprecationWarning: ANTIALIAS is deprecated and will be removed in Pillow 10 (2023-07-01). Use Resampling.LANCZOS instead.\n",
      "  image = img.resize((400,400),Image.ANTIALIAS) #vertical\n",
      "/var/folders/z3/4rs56z4x3l77_w335hpsgc_h0000gn/T/ipykernel_63232/3617929052.py:19: DeprecationWarning: getsize is deprecated and will be removed in Pillow 10 (2023-07-01). Use getbbox or getlength instead.\n",
      "  w, h = font.getsize(text)\n",
      "/var/folders/z3/4rs56z4x3l77_w335hpsgc_h0000gn/T/ipykernel_63232/3617929052.py:39: DeprecationWarning: ANTIALIAS is deprecated and will be removed in Pillow 10 (2023-07-01). Use Resampling.LANCZOS instead.\n",
      "  image = img.resize((400,350),Image.ANTIALIAS) #horizontal\n"
     ]
    },
    {
     "name": "stdout",
     "output_type": "stream",
     "text": [
      "(750, 753, 3)\n",
      "(750, 423, 3)\n",
      "(451, 800, 3)\n"
     ]
    },
    {
     "name": "stderr",
     "output_type": "stream",
     "text": [
      "/var/folders/z3/4rs56z4x3l77_w335hpsgc_h0000gn/T/ipykernel_63232/3617929052.py:39: DeprecationWarning: ANTIALIAS is deprecated and will be removed in Pillow 10 (2023-07-01). Use Resampling.LANCZOS instead.\n",
      "  image = img.resize((400,350),Image.ANTIALIAS) #horizontal\n",
      "/var/folders/z3/4rs56z4x3l77_w335hpsgc_h0000gn/T/ipykernel_63232/3617929052.py:19: DeprecationWarning: getsize is deprecated and will be removed in Pillow 10 (2023-07-01). Use getbbox or getlength instead.\n",
      "  w, h = font.getsize(text)\n"
     ]
    },
    {
     "name": "stdout",
     "output_type": "stream",
     "text": [
      "(642, 800, 3)\n",
      "(514, 800, 3)\n",
      "(750, 785, 3)\n",
      "(750, 619, 3)\n",
      "(750, 758, 3)\n",
      "(750, 778, 3)\n"
     ]
    },
    {
     "name": "stderr",
     "output_type": "stream",
     "text": [
      "/var/folders/z3/4rs56z4x3l77_w335hpsgc_h0000gn/T/ipykernel_63232/3617929052.py:41: DeprecationWarning: ANTIALIAS is deprecated and will be removed in Pillow 10 (2023-07-01). Use Resampling.LANCZOS instead.\n",
      "  image = img.resize((400,400),Image.ANTIALIAS) #vertical\n",
      "/var/folders/z3/4rs56z4x3l77_w335hpsgc_h0000gn/T/ipykernel_63232/3617929052.py:39: DeprecationWarning: ANTIALIAS is deprecated and will be removed in Pillow 10 (2023-07-01). Use Resampling.LANCZOS instead.\n",
      "  image = img.resize((400,350),Image.ANTIALIAS) #horizontal\n",
      "/var/folders/z3/4rs56z4x3l77_w335hpsgc_h0000gn/T/ipykernel_63232/3617929052.py:19: DeprecationWarning: getsize is deprecated and will be removed in Pillow 10 (2023-07-01). Use getbbox or getlength instead.\n",
      "  w, h = font.getsize(text)\n",
      "/var/folders/z3/4rs56z4x3l77_w335hpsgc_h0000gn/T/ipykernel_63232/3617929052.py:39: DeprecationWarning: ANTIALIAS is deprecated and will be removed in Pillow 10 (2023-07-01). Use Resampling.LANCZOS instead.\n",
      "  image = img.resize((400,350),Image.ANTIALIAS) #horizontal\n"
     ]
    },
    {
     "name": "stdout",
     "output_type": "stream",
     "text": [
      "(600, 800, 3)\n",
      "(700, 800, 3)\n",
      "(597, 800, 3)\n"
     ]
    },
    {
     "name": "stderr",
     "output_type": "stream",
     "text": [
      "/var/folders/z3/4rs56z4x3l77_w335hpsgc_h0000gn/T/ipykernel_63232/3617929052.py:19: DeprecationWarning: getsize is deprecated and will be removed in Pillow 10 (2023-07-01). Use getbbox or getlength instead.\n",
      "  w, h = font.getsize(text)\n"
     ]
    },
    {
     "name": "stdout",
     "output_type": "stream",
     "text": [
      "(647, 800, 3)\n",
      "(598, 800, 3)\n",
      "(716, 800, 3)\n",
      "(446, 800, 3)\n",
      "(750, 748, 3)\n"
     ]
    },
    {
     "name": "stderr",
     "output_type": "stream",
     "text": [
      "/var/folders/z3/4rs56z4x3l77_w335hpsgc_h0000gn/T/ipykernel_63232/3617929052.py:39: DeprecationWarning: ANTIALIAS is deprecated and will be removed in Pillow 10 (2023-07-01). Use Resampling.LANCZOS instead.\n",
      "  image = img.resize((400,350),Image.ANTIALIAS) #horizontal\n",
      "/var/folders/z3/4rs56z4x3l77_w335hpsgc_h0000gn/T/ipykernel_63232/3617929052.py:19: DeprecationWarning: getsize is deprecated and will be removed in Pillow 10 (2023-07-01). Use getbbox or getlength instead.\n",
      "  w, h = font.getsize(text)\n",
      "/var/folders/z3/4rs56z4x3l77_w335hpsgc_h0000gn/T/ipykernel_63232/3617929052.py:41: DeprecationWarning: ANTIALIAS is deprecated and will be removed in Pillow 10 (2023-07-01). Use Resampling.LANCZOS instead.\n",
      "  image = img.resize((400,400),Image.ANTIALIAS) #vertical\n"
     ]
    }
   ],
   "source": [
    "dial_hindi = pd.read_csv(\"Hindi.csv\",encoding='utf-8')\n",
    "print(dial_hindi.head())\n",
    "caption_hin=[]\n",
    "for i in range(dial_hindi.shape[0]):\n",
    "    caption_hin.append(dial_hindi.iloc[i]['dialogs'])\n",
    "    TINT_COLOR = (0, 0,0)  # Black\n",
    "    TRANSPARENCY = .60  # Degree of transparency, 0-100%\n",
    "    OPACITY = int(255 * TRANSPARENCY)\n",
    "    \n",
    "    img = pili.open(\"Book/cartoon/\"+dial_hindi.iloc[i]['picture']).convert('RGBA')\n",
    "    im = cv2.imread(\"Book/cartoon/\"+dial_hindi.iloc[i]['picture'])\n",
    "    print(im.shape)\n",
    "    overlay = pili.new('RGBA', img.size, TINT_COLOR+(0,))   ##change font n style\n",
    "    draw = pild.Draw(overlay)\n",
    "    font = pilf.truetype(\"Nirmala.ttf\", 57)\n",
    "    #x, y = (img.width - 510, img.height-100)\n",
    "    text = dial_hindi.iloc[i]['dialogs']\n",
    "    #print(text)\n",
    "    w, h = font.getsize(text)\n",
    "    num_lines = len(text.split(' \\n'))\n",
    "    #print(num_lines, w, h)\n",
    "    x, y = 88, img.height - (num_lines-0.1*num_lines)*h\n",
    "    draw.rectangle((x, y, x + w, y + h), fill='black')\n",
    "    #draw.rectangle((x-220,y, x + w, y + 4*h), fill=TINT_COLOR+(OPACITY,))\n",
    "    #draw.rectangle((x, y, x + img.width-200 , y + (num_lines-0.1*num_lines)*h), fill=TINT_COLOR+(OPACITY,))\n",
    "    import random\n",
    "    import colorsys\n",
    "    h,s,l = random.random(), 0.5 + random.random()/2.0, 0.4 + random.random()/5.0\n",
    "    r,g,b = [int(256*i) for i in colorsys.hls_to_rgb(h,l,s)]\n",
    "    draw.text((x-80,y-50), str(text), fill=(r,g,b), font=font)\n",
    "\n",
    "# Alpha composite these two images together to obtain the desired result.\n",
    "    img = pili.alpha_composite(img, overlay)\n",
    "    img = img.convert(\"RGB\") # Remove alpha for saving in jpg format.\n",
    "\n",
    "#img.show()\n",
    "    if(im.shape[0]< im.shape[1]):\n",
    "        \n",
    "        image = img.resize((400,350),Image.ANTIALIAS) #horizontal \n",
    "    else:\n",
    "        image = img.resize((400,400),Image.ANTIALIAS) #vertical \n",
    "\n",
    "    #image.show()\n",
    "    image.save('Book/UnBordered_pic_hindi/'+dial_hindi.iloc[i]['picture'])"
   ]
  },
  {
   "cell_type": "markdown",
   "id": "d81e5db6",
   "metadata": {},
   "source": [
    "### Adding border to English captioned Pic        "
   ]
  },
  {
   "cell_type": "code",
   "execution_count": 48,
   "id": "1c482baf",
   "metadata": {},
   "outputs": [],
   "source": [
    "from skimage.io import imread_collection\n",
    "from PIL import Image as pili, ImageDraw as pild, ImageFont as pilf, ImageOps as piliops\n",
    "\n",
    "#your path \n",
    "col_dir = 'Book/UnBordered_pic/*.png'\n",
    "#creating a collection with the available images\n",
    "col = imread_collection(col_dir)\n",
    "for i in range(len(col)):\n",
    "    Image = piliops.expand(pili.open('Book/UnBordered_pic/{0}.png'.format(i+1)),\n",
    "                border=(10,10),fill='white').save('Book/first_page1/{0}.png'.format(i+1))\n",
    "    \n",
    "    \n"
   ]
  },
  {
   "cell_type": "markdown",
   "id": "e4ee4cc5",
   "metadata": {},
   "source": [
    "### Adding border to Hindi captioned Pic        "
   ]
  },
  {
   "cell_type": "code",
   "execution_count": 49,
   "id": "396f4464",
   "metadata": {},
   "outputs": [],
   "source": [
    "col_dir = 'Book/UnBordered_pic_hindi/*.png'\n",
    "#creating a collection with the available images\n",
    "col = imread_collection(col_dir)\n",
    "for i in range(len(col)):\n",
    "    Image = piliops.expand(pili.open('Book/UnBordered_pic_hindi/{0}.png'.format(i+1)),\n",
    "                border=(10,10),fill='white').save('Book/first_page1_hindi/{0}.png'.format(i+1))    "
   ]
  },
  {
   "cell_type": "markdown",
   "id": "e63a80a5",
   "metadata": {},
   "source": [
    "## Creating Horizontal strip - English"
   ]
  },
  {
   "cell_type": "code",
   "execution_count": 50,
   "id": "d4dbac9a",
   "metadata": {},
   "outputs": [
    {
     "name": "stderr",
     "output_type": "stream",
     "text": [
      "/var/folders/z3/4rs56z4x3l77_w335hpsgc_h0000gn/T/ipykernel_63232/2111381253.py:18: FutureWarning: arrays to stack must be passed as a \"sequence\" type such as list or tuple. Support for non-sequence iterables such as generators is deprecated as of NumPy 1.16 and will raise an error in the future.\n",
      "  imgs_comb = np.hstack( (np.asarray( i.resize(min_shape) ) for i in imgs ))\n"
     ]
    }
   ],
   "source": [
    "import numpy as np\n",
    "import PIL\n",
    "list_im=[]\n",
    "path=[]\n",
    "hStripsList = []\n",
    "for i in range(dial.shape[0]):\n",
    "    path.append('Book/first_page1/'+dial.iloc[i]['picture'])\n",
    "\n",
    "count=0\n",
    "num=0\n",
    "for i in range(len(path)):\n",
    "    if(count!=3):\n",
    "        list_im.append(path[i])\n",
    "        count+=1\n",
    "    if(count==3):\n",
    "        imgs    = [ PIL.Image.open(i) for i in list_im ]\n",
    "        min_shape = sorted( [(np.sum(i.size), i.size ) for i in imgs])[0][1]\n",
    "        imgs_comb = np.hstack( (np.asarray( i.resize(min_shape) ) for i in imgs ))\n",
    "        imgs_comb = PIL.Image.fromarray( imgs_comb)\n",
    "        imgs_comb.save( 'Book/combined/strip{0}.png'.format(num))\n",
    "        hStripsList.append('Book/combined/strip{0}.png'.format(num))\n",
    "        num+=1\n",
    "        count=0\n",
    "        list_im=[]\n",
    "    "
   ]
  },
  {
   "cell_type": "markdown",
   "id": "ecb33632",
   "metadata": {},
   "source": [
    "## Creating Horizontal strip - Hindi"
   ]
  },
  {
   "cell_type": "code",
   "execution_count": 51,
   "id": "411decc7",
   "metadata": {},
   "outputs": [
    {
     "name": "stderr",
     "output_type": "stream",
     "text": [
      "/var/folders/z3/4rs56z4x3l77_w335hpsgc_h0000gn/T/ipykernel_63232/712944317.py:16: FutureWarning: arrays to stack must be passed as a \"sequence\" type such as list or tuple. Support for non-sequence iterables such as generators is deprecated as of NumPy 1.16 and will raise an error in the future.\n",
      "  imgs_comb = np.hstack( (np.asarray( i.resize(min_shape) ) for i in imgs ))\n"
     ]
    }
   ],
   "source": [
    "list_im_hin=[]\n",
    "path_hin=[]\n",
    "hStripsList_hin = []\n",
    "for i in range(dial_hindi.shape[0]):\n",
    "    path_hin.append('Book/first_page1_hindi/'+dial_hindi.iloc[i]['picture'])\n",
    "\n",
    "count=0\n",
    "num=0\n",
    "for i in range(len(path_hin)):\n",
    "    if(count!=3):\n",
    "        list_im_hin.append(path_hin[i])\n",
    "        count+=1\n",
    "    if(count==3):\n",
    "        imgs    = [ PIL.Image.open(i) for i in list_im_hin ]\n",
    "        min_shape = sorted( [(np.sum(i.size), i.size ) for i in imgs])[0][1]\n",
    "        imgs_comb = np.hstack( (np.asarray( i.resize(min_shape) ) for i in imgs ))\n",
    "        imgs_comb = PIL.Image.fromarray( imgs_comb)\n",
    "        imgs_comb.save( 'Book/combined_hin/strip{0}.png'.format(num))\n",
    "        hStripsList_hin.append('Book/combined_hin/strip{0}.png'.format(num))\n",
    "        num+=1\n",
    "        count=0\n",
    "        list_im_hin=[]"
   ]
  },
  {
   "cell_type": "markdown",
   "id": "e1320e9a",
   "metadata": {},
   "source": [
    "### Vertical Strip   - English        "
   ]
  },
  {
   "cell_type": "code",
   "execution_count": 52,
   "id": "3bff9f7e",
   "metadata": {},
   "outputs": [
    {
     "name": "stderr",
     "output_type": "stream",
     "text": [
      "/var/folders/z3/4rs56z4x3l77_w335hpsgc_h0000gn/T/ipykernel_63232/596315544.py:11: FutureWarning: arrays to stack must be passed as a \"sequence\" type such as list or tuple. Support for non-sequence iterables such as generators is deprecated as of NumPy 1.16 and will raise an error in the future.\n",
      "  imgs_comb = np.vstack( (np.asarray( i.resize(min_shape) ) for i in imgs ))\n"
     ]
    }
   ],
   "source": [
    "list_im_v=[]\n",
    "count=0\n",
    "num=0\n",
    "for i in range(len(hStripsList)):\n",
    "    if(count!=3):\n",
    "        list_im_v.append(hStripsList[i])\n",
    "        count+=1\n",
    "    if(count==3):\n",
    "        imgs    = [ PIL.Image.open(i) for i in list_im_v ]\n",
    "        min_shape = sorted( [(np.sum(i.size), i.size ) for i in imgs])[0][1]\n",
    "        imgs_comb = np.vstack( (np.asarray( i.resize(min_shape) ) for i in imgs ))\n",
    "        imgs_comb = PIL.Image.fromarray( imgs_comb)\n",
    "        imgs_comb.save( 'Book/pages/v_strip{0}.png'.format(num))\n",
    "        num+=1\n",
    "        count=0\n",
    "        list_im_v=[]"
   ]
  },
  {
   "cell_type": "markdown",
   "id": "da65c41b",
   "metadata": {},
   "source": [
    "### Vertical Strip   - Hindi        "
   ]
  },
  {
   "cell_type": "code",
   "execution_count": 53,
   "id": "a154d3c4",
   "metadata": {},
   "outputs": [
    {
     "name": "stderr",
     "output_type": "stream",
     "text": [
      "/var/folders/z3/4rs56z4x3l77_w335hpsgc_h0000gn/T/ipykernel_63232/1443719362.py:11: FutureWarning: arrays to stack must be passed as a \"sequence\" type such as list or tuple. Support for non-sequence iterables such as generators is deprecated as of NumPy 1.16 and will raise an error in the future.\n",
      "  imgs_comb = np.vstack( (np.asarray( i.resize(min_shape) ) for i in imgs ))\n"
     ]
    }
   ],
   "source": [
    "list_im_v_hin=[]\n",
    "count=0\n",
    "num=0\n",
    "for i in range(len(hStripsList_hin)):\n",
    "    if(count!=3):\n",
    "        list_im_v_hin.append(hStripsList_hin[i])\n",
    "        count+=1\n",
    "    if(count==3):\n",
    "        imgs    = [ PIL.Image.open(i) for i in list_im_v_hin ]\n",
    "        min_shape = sorted( [(np.sum(i.size), i.size ) for i in imgs])[0][1]\n",
    "        imgs_comb = np.vstack( (np.asarray( i.resize(min_shape) ) for i in imgs ))\n",
    "        imgs_comb = PIL.Image.fromarray( imgs_comb)\n",
    "        imgs_comb.save( 'Book/pages_hin/v_strip{0}.png'.format(num))\n",
    "        num+=1\n",
    "        count=0\n",
    "        list_im_v_hin=[]"
   ]
  },
  {
   "cell_type": "markdown",
   "id": "44b8faa3",
   "metadata": {},
   "source": [
    "### Converting to PDF - English"
   ]
  },
  {
   "cell_type": "code",
   "execution_count": 54,
   "id": "77d3bc5c",
   "metadata": {},
   "outputs": [
    {
     "name": "stdout",
     "output_type": "stream",
     "text": [
      "done!\n"
     ]
    }
   ],
   "source": [
    "from PIL import Image\n",
    "from fpdf import FPDF\n",
    "\n",
    "\n",
    "pdf = FPDF()\n",
    "cover = Image.open('Book/pics/1.png')\n",
    "width, height = cover.size\n",
    "pdf = FPDF(unit = \"pt\", format = [width, height])\n",
    "    \n",
    "# imagelist is the list with all image filenames\n",
    "imagelist = ['Book/pages/v_strip0.png',\n",
    "             'Book/pages/v_strip1.png',\n",
    "             'Book/pages/v_strip2.png',\n",
    "             'Book/pages/v_strip3.png',\n",
    "            'Book/pages/v_strip4.png']\n",
    "\n",
    "\n",
    "\n",
    "for image in imagelist:\n",
    "    pdf.add_page()\n",
    "    pdf.image(image, 0, 0, width, height)\n",
    "pdf.output(\"Book/output/English.pdf\", \"F\")\n",
    "print(\"done!\")"
   ]
  },
  {
   "cell_type": "markdown",
   "id": "eb3af3d1",
   "metadata": {},
   "source": [
    "### Converting to PDF - Hindi"
   ]
  },
  {
   "cell_type": "code",
   "execution_count": 55,
   "id": "137b3269",
   "metadata": {},
   "outputs": [
    {
     "name": "stdout",
     "output_type": "stream",
     "text": [
      "done!\n"
     ]
    }
   ],
   "source": [
    "from PIL import Image\n",
    "from fpdf import FPDF\n",
    "pdf = FPDF()\n",
    "cover = Image.open('Book/pics/1.png')\n",
    "width, height = cover.size\n",
    "pdf = FPDF(unit = \"pt\", format = [width, height])\n",
    "    \n",
    "# imagelist is the list with all image filenames\n",
    "imagelist = ['Book/pages_hin/v_strip0.png',\n",
    "             'Book/pages_hin/v_strip1.png',\n",
    "             'Book/pages_hin/v_strip2.png',\n",
    "             'Book/pages_hin/v_strip3.png',\n",
    "            'Book/pages_hin/v_strip4.png']\n",
    "\n",
    "\n",
    "\n",
    "for image in imagelist:\n",
    "    pdf.add_page()\n",
    "    pdf.image(image, 0, 0, width, height)\n",
    "pdf.output(\"Book/output_hin/Hindi.pdf\", \"F\")\n",
    "print(\"done!\")"
   ]
  }
 ],
 "metadata": {
  "kernelspec": {
   "display_name": "Python 3 (ipykernel)",
   "language": "python",
   "name": "python3"
  },
  "language_info": {
   "codemirror_mode": {
    "name": "ipython",
    "version": 3
   },
   "file_extension": ".py",
   "mimetype": "text/x-python",
   "name": "python",
   "nbconvert_exporter": "python",
   "pygments_lexer": "ipython3",
   "version": "3.8.9"
  }
 },
 "nbformat": 4,
 "nbformat_minor": 5
}
